{
  "nbformat": 4,
  "nbformat_minor": 0,
  "metadata": {
    "colab": {
      "name": "task_classification.ipynb",
      "provenance": [],
      "mount_file_id": "1PSAbOauOnjJu2ohH76q4--V-DEsxU0gJ",
      "authorship_tag": "ABX9TyNjxr6Mp87N+EwsKOTH1BwL",
      "include_colab_link": true
    },
    "kernelspec": {
      "name": "python3",
      "display_name": "Python 3"
    },
    "accelerator": "GPU"
  },
  "cells": [
    {
      "cell_type": "markdown",
      "metadata": {
        "id": "view-in-github",
        "colab_type": "text"
      },
      "source": [
        "<a href=\"https://colab.research.google.com/github/aliebi/type_classification/blob/main/task_classification.ipynb\" target=\"_parent\"><img src=\"https://colab.research.google.com/assets/colab-badge.svg\" alt=\"Open In Colab\"/></a>"
      ]
    },
    {
      "cell_type": "code",
      "metadata": {
        "colab": {
          "base_uri": "https://localhost:8080/"
        },
        "id": "TEiDGIxEIY1a",
        "outputId": "cf5b3f95-797f-4e2f-81b2-6a960942d903"
      },
      "source": [
        "!nvidia-smi"
      ],
      "execution_count": 1,
      "outputs": [
        {
          "output_type": "stream",
          "text": [
            "Sat Feb 20 11:21:40 2021       \n",
            "+-----------------------------------------------------------------------------+\n",
            "| NVIDIA-SMI 460.39       Driver Version: 460.32.03    CUDA Version: 11.2     |\n",
            "|-------------------------------+----------------------+----------------------+\n",
            "| GPU  Name        Persistence-M| Bus-Id        Disp.A | Volatile Uncorr. ECC |\n",
            "| Fan  Temp  Perf  Pwr:Usage/Cap|         Memory-Usage | GPU-Util  Compute M. |\n",
            "|                               |                      |               MIG M. |\n",
            "|===============================+======================+======================|\n",
            "|   0  Tesla T4            Off  | 00000000:00:04.0 Off |                    0 |\n",
            "| N/A   60C    P8    11W /  70W |      0MiB / 15109MiB |      0%      Default |\n",
            "|                               |                      |                  N/A |\n",
            "+-------------------------------+----------------------+----------------------+\n",
            "                                                                               \n",
            "+-----------------------------------------------------------------------------+\n",
            "| Processes:                                                                  |\n",
            "|  GPU   GI   CI        PID   Type   Process name                  GPU Memory |\n",
            "|        ID   ID                                                   Usage      |\n",
            "|=============================================================================|\n",
            "|  No running processes found                                                 |\n",
            "+-----------------------------------------------------------------------------+\n"
          ],
          "name": "stdout"
        }
      ]
    },
    {
      "cell_type": "code",
      "metadata": {
        "colab": {
          "base_uri": "https://localhost:8080/"
        },
        "id": "F8tFEhFyJW8i",
        "outputId": "be26ed44-116e-4940-bf5c-a865e186b1ba"
      },
      "source": [
        "!pip install torch torchvision\r\n",
        "!pip install transformers\r\n",
        "!pip install pandas\r\n",
        "!pip install numpy"
      ],
      "execution_count": 2,
      "outputs": [
        {
          "output_type": "stream",
          "text": [
            "Requirement already satisfied: torch in /usr/local/lib/python3.6/dist-packages (1.7.0+cu101)\n",
            "Requirement already satisfied: torchvision in /usr/local/lib/python3.6/dist-packages (0.8.1+cu101)\n",
            "Requirement already satisfied: typing-extensions in /usr/local/lib/python3.6/dist-packages (from torch) (3.7.4.3)\n",
            "Requirement already satisfied: dataclasses in /usr/local/lib/python3.6/dist-packages (from torch) (0.8)\n",
            "Requirement already satisfied: numpy in /usr/local/lib/python3.6/dist-packages (from torch) (1.19.5)\n",
            "Requirement already satisfied: future in /usr/local/lib/python3.6/dist-packages (from torch) (0.16.0)\n",
            "Requirement already satisfied: pillow>=4.1.1 in /usr/local/lib/python3.6/dist-packages (from torchvision) (7.0.0)\n",
            "Collecting transformers\n",
            "\u001b[?25l  Downloading https://files.pythonhosted.org/packages/98/87/ef312eef26f5cecd8b17ae9654cdd8d1fae1eb6dbd87257d6d73c128a4d0/transformers-4.3.2-py3-none-any.whl (1.8MB)\n",
            "\u001b[K     |████████████████████████████████| 1.8MB 18.7MB/s \n",
            "\u001b[?25hRequirement already satisfied: tqdm>=4.27 in /usr/local/lib/python3.6/dist-packages (from transformers) (4.41.1)\n",
            "Requirement already satisfied: numpy>=1.17 in /usr/local/lib/python3.6/dist-packages (from transformers) (1.19.5)\n",
            "Requirement already satisfied: packaging in /usr/local/lib/python3.6/dist-packages (from transformers) (20.9)\n",
            "Requirement already satisfied: filelock in /usr/local/lib/python3.6/dist-packages (from transformers) (3.0.12)\n",
            "Requirement already satisfied: dataclasses; python_version < \"3.7\" in /usr/local/lib/python3.6/dist-packages (from transformers) (0.8)\n",
            "Requirement already satisfied: importlib-metadata; python_version < \"3.8\" in /usr/local/lib/python3.6/dist-packages (from transformers) (3.4.0)\n",
            "Collecting tokenizers<0.11,>=0.10.1\n",
            "\u001b[?25l  Downloading https://files.pythonhosted.org/packages/fd/5b/44baae602e0a30bcc53fbdbc60bd940c15e143d252d658dfdefce736ece5/tokenizers-0.10.1-cp36-cp36m-manylinux2010_x86_64.whl (3.2MB)\n",
            "\u001b[K     |████████████████████████████████| 3.2MB 56.5MB/s \n",
            "\u001b[?25hCollecting sacremoses\n",
            "\u001b[?25l  Downloading https://files.pythonhosted.org/packages/7d/34/09d19aff26edcc8eb2a01bed8e98f13a1537005d31e95233fd48216eed10/sacremoses-0.0.43.tar.gz (883kB)\n",
            "\u001b[K     |████████████████████████████████| 890kB 54.1MB/s \n",
            "\u001b[?25hRequirement already satisfied: requests in /usr/local/lib/python3.6/dist-packages (from transformers) (2.23.0)\n",
            "Requirement already satisfied: regex!=2019.12.17 in /usr/local/lib/python3.6/dist-packages (from transformers) (2019.12.20)\n",
            "Requirement already satisfied: pyparsing>=2.0.2 in /usr/local/lib/python3.6/dist-packages (from packaging->transformers) (2.4.7)\n",
            "Requirement already satisfied: zipp>=0.5 in /usr/local/lib/python3.6/dist-packages (from importlib-metadata; python_version < \"3.8\"->transformers) (3.4.0)\n",
            "Requirement already satisfied: typing-extensions>=3.6.4; python_version < \"3.8\" in /usr/local/lib/python3.6/dist-packages (from importlib-metadata; python_version < \"3.8\"->transformers) (3.7.4.3)\n",
            "Requirement already satisfied: six in /usr/local/lib/python3.6/dist-packages (from sacremoses->transformers) (1.15.0)\n",
            "Requirement already satisfied: click in /usr/local/lib/python3.6/dist-packages (from sacremoses->transformers) (7.1.2)\n",
            "Requirement already satisfied: joblib in /usr/local/lib/python3.6/dist-packages (from sacremoses->transformers) (1.0.0)\n",
            "Requirement already satisfied: certifi>=2017.4.17 in /usr/local/lib/python3.6/dist-packages (from requests->transformers) (2020.12.5)\n",
            "Requirement already satisfied: urllib3!=1.25.0,!=1.25.1,<1.26,>=1.21.1 in /usr/local/lib/python3.6/dist-packages (from requests->transformers) (1.24.3)\n",
            "Requirement already satisfied: chardet<4,>=3.0.2 in /usr/local/lib/python3.6/dist-packages (from requests->transformers) (3.0.4)\n",
            "Requirement already satisfied: idna<3,>=2.5 in /usr/local/lib/python3.6/dist-packages (from requests->transformers) (2.10)\n",
            "Building wheels for collected packages: sacremoses\n",
            "  Building wheel for sacremoses (setup.py) ... \u001b[?25l\u001b[?25hdone\n",
            "  Created wheel for sacremoses: filename=sacremoses-0.0.43-cp36-none-any.whl size=893261 sha256=25f2ccd2c9904c3d3decb9bcba496886b2062c0a570e94fb83aba6eeb79e976c\n",
            "  Stored in directory: /root/.cache/pip/wheels/29/3c/fd/7ce5c3f0666dab31a50123635e6fb5e19ceb42ce38d4e58f45\n",
            "Successfully built sacremoses\n",
            "Installing collected packages: tokenizers, sacremoses, transformers\n",
            "Successfully installed sacremoses-0.0.43 tokenizers-0.10.1 transformers-4.3.2\n",
            "Requirement already satisfied: pandas in /usr/local/lib/python3.6/dist-packages (1.1.5)\n",
            "Requirement already satisfied: python-dateutil>=2.7.3 in /usr/local/lib/python3.6/dist-packages (from pandas) (2.8.1)\n",
            "Requirement already satisfied: numpy>=1.15.4 in /usr/local/lib/python3.6/dist-packages (from pandas) (1.19.5)\n",
            "Requirement already satisfied: pytz>=2017.2 in /usr/local/lib/python3.6/dist-packages (from pandas) (2018.9)\n",
            "Requirement already satisfied: six>=1.5 in /usr/local/lib/python3.6/dist-packages (from python-dateutil>=2.7.3->pandas) (1.15.0)\n",
            "Requirement already satisfied: numpy in /usr/local/lib/python3.6/dist-packages (1.19.5)\n"
          ],
          "name": "stdout"
        }
      ]
    },
    {
      "cell_type": "code",
      "metadata": {
        "colab": {
          "base_uri": "https://localhost:8080/"
        },
        "id": "8K6Q4NPHJjO5",
        "outputId": "8a60f5a2-9372-4447-c228-e48cfb0d7613"
      },
      "source": [
        "cd /content/drive/MyDrive/task_classification"
      ],
      "execution_count": 3,
      "outputs": [
        {
          "output_type": "stream",
          "text": [
            "/content/drive/MyDrive/task_classification\n"
          ],
          "name": "stdout"
        }
      ]
    },
    {
      "cell_type": "code",
      "metadata": {
        "id": "7_mlh5O-Jz6u"
      },
      "source": [
        "import pandas as pd\r\n",
        "train = pd.read_csv('/content/drive/MyDrive/DFGN/train_select/paragraph_train_final.csv')\r\n",
        "dev = pd.read_csv('/content/drive/MyDrive/DFGN/train_select/paragraph_dev_final.csv')\r\n",
        "\r\n",
        "train = train.drop(['Unnamed: 0','Unnamed: 0.1'],axis = 1)\r\n",
        "dev = dev.drop(['Unnamed: 0','Unnamed: 0.1','Unnamed: 0.1.1'],axis = 1)"
      ],
      "execution_count": 4,
      "outputs": []
    },
    {
      "cell_type": "code",
      "metadata": {
        "colab": {
          "base_uri": "https://localhost:8080/",
          "height": 1000
        },
        "id": "HR3k3y3GL_xY",
        "outputId": "fe35b8a3-bbea-4c49-eff6-9808b3084865"
      },
      "source": [
        "train.head(50)"
      ],
      "execution_count": 14,
      "outputs": [
        {
          "output_type": "execute_result",
          "data": {
            "text/html": [
              "<div>\n",
              "<style scoped>\n",
              "    .dataframe tbody tr th:only-of-type {\n",
              "        vertical-align: middle;\n",
              "    }\n",
              "\n",
              "    .dataframe tbody tr th {\n",
              "        vertical-align: top;\n",
              "    }\n",
              "\n",
              "    .dataframe thead th {\n",
              "        text-align: right;\n",
              "    }\n",
              "</style>\n",
              "<table border=\"1\" class=\"dataframe\">\n",
              "  <thead>\n",
              "    <tr style=\"text-align: right;\">\n",
              "      <th></th>\n",
              "      <th>answer</th>\n",
              "      <th>context</th>\n",
              "      <th>question</th>\n",
              "    </tr>\n",
              "  </thead>\n",
              "  <tbody>\n",
              "    <tr>\n",
              "      <th>0</th>\n",
              "      <td>1</td>\n",
              "      <td>Arthur's Magazine (1844–1846) was an American ...</td>\n",
              "      <td>Which magazine was started first Arthur's Maga...</td>\n",
              "    </tr>\n",
              "    <tr>\n",
              "      <th>1</th>\n",
              "      <td>1</td>\n",
              "      <td>The Oberoi family is an Indian family that is ...</td>\n",
              "      <td>The Oberoi family is part of a hotel company t...</td>\n",
              "    </tr>\n",
              "    <tr>\n",
              "      <th>2</th>\n",
              "      <td>1</td>\n",
              "      <td>Allison Beth \"Allie\" Goertz (born March 2, 199...</td>\n",
              "      <td>Musician and satirist Allie Goertz wrote a son...</td>\n",
              "    </tr>\n",
              "    <tr>\n",
              "      <th>3</th>\n",
              "      <td>1</td>\n",
              "      <td>James Henry Miller (25 January 1915 – 22 Octob...</td>\n",
              "      <td>What nationality was James Henry Miller's wife?</td>\n",
              "    </tr>\n",
              "    <tr>\n",
              "      <th>4</th>\n",
              "      <td>1</td>\n",
              "      <td>Cadmium chloride is a white crystalline compou...</td>\n",
              "      <td>Cadmium Chloride is slightly soluble in this c...</td>\n",
              "    </tr>\n",
              "    <tr>\n",
              "      <th>5</th>\n",
              "      <td>1</td>\n",
              "      <td>Henri Leconte (born 4 July 1963) is a former F...</td>\n",
              "      <td>Which tennis player won more Grand Slam titles...</td>\n",
              "    </tr>\n",
              "    <tr>\n",
              "      <th>6</th>\n",
              "      <td>1</td>\n",
              "      <td>India, officially the Republic of India (\"Bhār...</td>\n",
              "      <td>Which genus of moth in the world's seventh-lar...</td>\n",
              "    </tr>\n",
              "    <tr>\n",
              "      <th>7</th>\n",
              "      <td>1</td>\n",
              "      <td>Badr Hari (Arabic: بدر هاري‎ ‎ ; born 8 Decemb...</td>\n",
              "      <td>Who was once considered the best kick boxer in...</td>\n",
              "    </tr>\n",
              "    <tr>\n",
              "      <th>8</th>\n",
              "      <td>1</td>\n",
              "      <td>House of Anubis is a mystery television series...</td>\n",
              "      <td>The Dutch-Belgian television series that \"Hous...</td>\n",
              "    </tr>\n",
              "    <tr>\n",
              "      <th>9</th>\n",
              "      <td>1</td>\n",
              "      <td>Mount Panorama Circuit is a motor racing track...</td>\n",
              "      <td>What is the length of the track where the 2013...</td>\n",
              "    </tr>\n",
              "    <tr>\n",
              "      <th>10</th>\n",
              "      <td>1</td>\n",
              "      <td>Jaime Meline (born March 2, 1975), better know...</td>\n",
              "      <td>Fast Cars, Danger, Fire and Knives includes gu...</td>\n",
              "    </tr>\n",
              "    <tr>\n",
              "      <th>11</th>\n",
              "      <td>1</td>\n",
              "      <td>Gunmen from Laredo is a 1959 American western ...</td>\n",
              "      <td>Gunmen from Laredo starred which narrator of \"...</td>\n",
              "    </tr>\n",
              "    <tr>\n",
              "      <th>12</th>\n",
              "      <td>1</td>\n",
              "      <td>Skiffle is a music genre with jazz, blues, fol...</td>\n",
              "      <td>Where did the form of music played by Die Rhön...</td>\n",
              "    </tr>\n",
              "    <tr>\n",
              "      <th>13</th>\n",
              "      <td>1</td>\n",
              "      <td>Malcolm Xavier Smith (born July 5, 1989) is an...</td>\n",
              "      <td>In which American football game was Malcolm Sm...</td>\n",
              "    </tr>\n",
              "    <tr>\n",
              "      <th>14</th>\n",
              "      <td>1</td>\n",
              "      <td>Zilpo Road is a National Forest Scenic Byway i...</td>\n",
              "      <td>What U.S Highway gives access to Zilpo Road, a...</td>\n",
              "    </tr>\n",
              "    <tr>\n",
              "      <th>15</th>\n",
              "      <td>1</td>\n",
              "      <td>Annette Carol Bening (born May 29, 1958) is an...</td>\n",
              "      <td>The 1988 American comedy film, The Great Outdo...</td>\n",
              "    </tr>\n",
              "    <tr>\n",
              "      <th>16</th>\n",
              "      <td>1</td>\n",
              "      <td>Hurt Locker The Musical is a fictional musical...</td>\n",
              "      <td>What are the names of the current members of  ...</td>\n",
              "    </tr>\n",
              "    <tr>\n",
              "      <th>17</th>\n",
              "      <td>1</td>\n",
              "      <td>\"Human Error\" is the twenty-fourth episode and...</td>\n",
              "      <td>Human Error\" is the season finale of the third...</td>\n",
              "    </tr>\n",
              "    <tr>\n",
              "      <th>18</th>\n",
              "      <td>1</td>\n",
              "      <td>Dua Lipa ( ; ] ; born 22 August 1995) is an En...</td>\n",
              "      <td>Dua Lipa, an English singer, songwriter and mo...</td>\n",
              "    </tr>\n",
              "    <tr>\n",
              "      <th>19</th>\n",
              "      <td>1</td>\n",
              "      <td>Catherine Marie Cortez Masto (born March 29, 1...</td>\n",
              "      <td>American politician Joe Heck ran unsuccessfull...</td>\n",
              "    </tr>\n",
              "    <tr>\n",
              "      <th>20</th>\n",
              "      <td>1</td>\n",
              "      <td>Longs Drugs is an American chain with approxim...</td>\n",
              "      <td>Which state does the drug stores, of which the...</td>\n",
              "    </tr>\n",
              "    <tr>\n",
              "      <th>21</th>\n",
              "      <td>1</td>\n",
              "      <td>Sue Donahue is an American politician. Donahue...</td>\n",
              "      <td>Which  American politician did Donahue replaced</td>\n",
              "    </tr>\n",
              "    <tr>\n",
              "      <th>22</th>\n",
              "      <td>1</td>\n",
              "      <td>The Wolfhounds are an indie pop/noise pop band...</td>\n",
              "      <td>Which band was founded first, Hole, the rock b...</td>\n",
              "    </tr>\n",
              "    <tr>\n",
              "      <th>23</th>\n",
              "      <td>1</td>\n",
              "      <td>Catching Fire is a 2009 science fiction young ...</td>\n",
              "      <td>How old is the female main protagonist of Catc...</td>\n",
              "    </tr>\n",
              "    <tr>\n",
              "      <th>24</th>\n",
              "      <td>1</td>\n",
              "      <td>Korea under Japanese rule began with the end o...</td>\n",
              "      <td>Chang Ucchin was born in korea during a time t...</td>\n",
              "    </tr>\n",
              "    <tr>\n",
              "      <th>25</th>\n",
              "      <td>1</td>\n",
              "      <td>Old School is a 2003 American comedy film rele...</td>\n",
              "      <td>Who is the director of the 2003 film which has...</td>\n",
              "    </tr>\n",
              "    <tr>\n",
              "      <th>26</th>\n",
              "      <td>1</td>\n",
              "      <td>New Faces of 1952 is a musical revue with song...</td>\n",
              "      <td>New Faces of 1952 is a musical revue with song...</td>\n",
              "    </tr>\n",
              "    <tr>\n",
              "      <th>27</th>\n",
              "      <td>0</td>\n",
              "      <td>Leonid Anatolievich Levin ( ; Russian: Леони́д...</td>\n",
              "      <td>Were Pavel Urysohn and Leonid Levin known for ...</td>\n",
              "    </tr>\n",
              "    <tr>\n",
              "      <th>28</th>\n",
              "      <td>0</td>\n",
              "      <td>Kings of Leon is an American rock band that fo...</td>\n",
              "      <td>Are both The New Pornographers and Kings of Le...</td>\n",
              "    </tr>\n",
              "    <tr>\n",
              "      <th>29</th>\n",
              "      <td>1</td>\n",
              "      <td>101 Park Avenue is a 629 ft tall skyscraper in...</td>\n",
              "      <td>750 7th Avenue and 101 Park Avenue, are locate...</td>\n",
              "    </tr>\n",
              "    <tr>\n",
              "      <th>30</th>\n",
              "      <td>1</td>\n",
              "      <td>Power Rangers is an American entertainment and...</td>\n",
              "      <td>Which actress played the part of fictitious ch...</td>\n",
              "    </tr>\n",
              "    <tr>\n",
              "      <th>31</th>\n",
              "      <td>1</td>\n",
              "      <td>Pablo Trapero (Born 4 October 1971) is an Arge...</td>\n",
              "      <td>Who was born first, Pablo Trapero or Aleksande...</td>\n",
              "    </tr>\n",
              "    <tr>\n",
              "      <th>32</th>\n",
              "      <td>0</td>\n",
              "      <td>First for Women is a woman's magazine publishe...</td>\n",
              "      <td>Are Jane and First for Women both women's maga...</td>\n",
              "    </tr>\n",
              "    <tr>\n",
              "      <th>33</th>\n",
              "      <td>1</td>\n",
              "      <td>Nicholas Ray (born Raymond Nicholas Kienzle Jr...</td>\n",
              "      <td>What profession does Nicholas Ray and Elia Kaz...</td>\n",
              "    </tr>\n",
              "    <tr>\n",
              "      <th>34</th>\n",
              "      <td>1</td>\n",
              "      <td>Aixam-Mega is a French automobile manufacturer...</td>\n",
              "      <td>Where is the company that purchased Aixam base...</td>\n",
              "    </tr>\n",
              "    <tr>\n",
              "      <th>35</th>\n",
              "      <td>1</td>\n",
              "      <td>Adam Clayton Powell is a 1989 American documen...</td>\n",
              "      <td>Which documentary is about Finnish rock groups...</td>\n",
              "    </tr>\n",
              "    <tr>\n",
              "      <th>36</th>\n",
              "      <td>1</td>\n",
              "      <td>Cia Berg (born 2 December 1963), now known as ...</td>\n",
              "      <td>Who was inducted into the Rock and Roll Hall o...</td>\n",
              "    </tr>\n",
              "    <tr>\n",
              "      <th>37</th>\n",
              "      <td>1</td>\n",
              "      <td>Guwe Secondary School is located in Zimbabwe. ...</td>\n",
              "      <td>Zimbabwe's Guwe Secondary School has a sister ...</td>\n",
              "    </tr>\n",
              "    <tr>\n",
              "      <th>38</th>\n",
              "      <td>1</td>\n",
              "      <td>The Royal Commission into Drug Trafficking (19...</td>\n",
              "      <td>The Royal Commission into Drug Trafficking (19...</td>\n",
              "    </tr>\n",
              "    <tr>\n",
              "      <th>39</th>\n",
              "      <td>1</td>\n",
              "      <td>The 337th Flight Test Squadron (337 FLTS) was ...</td>\n",
              "      <td>The 337th Flight Test Squadron (337 FLTS) was ...</td>\n",
              "    </tr>\n",
              "    <tr>\n",
              "      <th>40</th>\n",
              "      <td>1</td>\n",
              "      <td>The Pirna 014 was an axial turbojet designed i...</td>\n",
              "      <td>The axial turbojet Pirna 014 was designed by e...</td>\n",
              "    </tr>\n",
              "    <tr>\n",
              "      <th>41</th>\n",
              "      <td>1</td>\n",
              "      <td>Great Falls is a city in and the county seat o...</td>\n",
              "      <td>Which faith is designated to the University of...</td>\n",
              "    </tr>\n",
              "    <tr>\n",
              "      <th>42</th>\n",
              "      <td>1</td>\n",
              "      <td>\"I Still Haven't Found What I'm Looking For\" i...</td>\n",
              "      <td>Pauline Henry was known as the vocalist of a v...</td>\n",
              "    </tr>\n",
              "    <tr>\n",
              "      <th>43</th>\n",
              "      <td>1</td>\n",
              "      <td>Guitars for Wounded Warriors is the sixth solo...</td>\n",
              "      <td>Guitars for Wounded Warriors is an album that ...</td>\n",
              "    </tr>\n",
              "    <tr>\n",
              "      <th>44</th>\n",
              "      <td>1</td>\n",
              "      <td>Tammy Wynette (born Virginia Wynette Pugh; May...</td>\n",
              "      <td>What American country music singer-songwriter,...</td>\n",
              "    </tr>\n",
              "    <tr>\n",
              "      <th>45</th>\n",
              "      <td>1</td>\n",
              "      <td>Sir Francis Nethersole (1587–1659) was an Engl...</td>\n",
              "      <td>Who was born first, Francis Nethersole or Eliz...</td>\n",
              "    </tr>\n",
              "    <tr>\n",
              "      <th>46</th>\n",
              "      <td>1</td>\n",
              "      <td>Hacker-Pschorr is a brewery in Munich, formed ...</td>\n",
              "      <td>What does the Hacker-Pschorr Brewery have to l...</td>\n",
              "    </tr>\n",
              "    <tr>\n",
              "      <th>47</th>\n",
              "      <td>1</td>\n",
              "      <td>Dennis Howard Marks (13 August 1945 – 10 April...</td>\n",
              "      <td>Don Barry Mason was the founder of the Psyched...</td>\n",
              "    </tr>\n",
              "    <tr>\n",
              "      <th>48</th>\n",
              "      <td>1</td>\n",
              "      <td>Robert Michael Sheehan (Irish: \"Roibeárd Míche...</td>\n",
              "      <td>What male actor starred in The Messenger?</td>\n",
              "    </tr>\n",
              "    <tr>\n",
              "      <th>49</th>\n",
              "      <td>0</td>\n",
              "      <td>The paloma (Spanish for \"dove\") is a tequila-b...</td>\n",
              "      <td>Are Gin and tonic and Paloma both cocktails ba...</td>\n",
              "    </tr>\n",
              "  </tbody>\n",
              "</table>\n",
              "</div>"
            ],
            "text/plain": [
              "    answer  ...                                           question\n",
              "0        1  ...  Which magazine was started first Arthur's Maga...\n",
              "1        1  ...  The Oberoi family is part of a hotel company t...\n",
              "2        1  ...  Musician and satirist Allie Goertz wrote a son...\n",
              "3        1  ...    What nationality was James Henry Miller's wife?\n",
              "4        1  ...  Cadmium Chloride is slightly soluble in this c...\n",
              "5        1  ...  Which tennis player won more Grand Slam titles...\n",
              "6        1  ...  Which genus of moth in the world's seventh-lar...\n",
              "7        1  ...  Who was once considered the best kick boxer in...\n",
              "8        1  ...  The Dutch-Belgian television series that \"Hous...\n",
              "9        1  ...  What is the length of the track where the 2013...\n",
              "10       1  ...  Fast Cars, Danger, Fire and Knives includes gu...\n",
              "11       1  ...  Gunmen from Laredo starred which narrator of \"...\n",
              "12       1  ...  Where did the form of music played by Die Rhön...\n",
              "13       1  ...  In which American football game was Malcolm Sm...\n",
              "14       1  ...  What U.S Highway gives access to Zilpo Road, a...\n",
              "15       1  ...  The 1988 American comedy film, The Great Outdo...\n",
              "16       1  ...  What are the names of the current members of  ...\n",
              "17       1  ...  Human Error\" is the season finale of the third...\n",
              "18       1  ...  Dua Lipa, an English singer, songwriter and mo...\n",
              "19       1  ...  American politician Joe Heck ran unsuccessfull...\n",
              "20       1  ...  Which state does the drug stores, of which the...\n",
              "21       1  ...   Which  American politician did Donahue replaced \n",
              "22       1  ...  Which band was founded first, Hole, the rock b...\n",
              "23       1  ...  How old is the female main protagonist of Catc...\n",
              "24       1  ...  Chang Ucchin was born in korea during a time t...\n",
              "25       1  ...  Who is the director of the 2003 film which has...\n",
              "26       1  ...  New Faces of 1952 is a musical revue with song...\n",
              "27       0  ...  Were Pavel Urysohn and Leonid Levin known for ...\n",
              "28       0  ...  Are both The New Pornographers and Kings of Le...\n",
              "29       1  ...  750 7th Avenue and 101 Park Avenue, are locate...\n",
              "30       1  ...  Which actress played the part of fictitious ch...\n",
              "31       1  ...  Who was born first, Pablo Trapero or Aleksande...\n",
              "32       0  ...  Are Jane and First for Women both women's maga...\n",
              "33       1  ...  What profession does Nicholas Ray and Elia Kaz...\n",
              "34       1  ...  Where is the company that purchased Aixam base...\n",
              "35       1  ...  Which documentary is about Finnish rock groups...\n",
              "36       1  ...  Who was inducted into the Rock and Roll Hall o...\n",
              "37       1  ...  Zimbabwe's Guwe Secondary School has a sister ...\n",
              "38       1  ...  The Royal Commission into Drug Trafficking (19...\n",
              "39       1  ...  The 337th Flight Test Squadron (337 FLTS) was ...\n",
              "40       1  ...  The axial turbojet Pirna 014 was designed by e...\n",
              "41       1  ...  Which faith is designated to the University of...\n",
              "42       1  ...  Pauline Henry was known as the vocalist of a v...\n",
              "43       1  ...  Guitars for Wounded Warriors is an album that ...\n",
              "44       1  ...  What American country music singer-songwriter,...\n",
              "45       1  ...  Who was born first, Francis Nethersole or Eliz...\n",
              "46       1  ...  What does the Hacker-Pschorr Brewery have to l...\n",
              "47       1  ...  Don Barry Mason was the founder of the Psyched...\n",
              "48       1  ...          What male actor starred in The Messenger?\n",
              "49       0  ...  Are Gin and tonic and Paloma both cocktails ba...\n",
              "\n",
              "[50 rows x 3 columns]"
            ]
          },
          "metadata": {
            "tags": []
          },
          "execution_count": 14
        }
      ]
    },
    {
      "cell_type": "code",
      "metadata": {
        "id": "-N1oCNBQLts6"
      },
      "source": [
        "def change_dataset(dataset1):\r\n",
        "    list_of_rows = []\r\n",
        "    for i in range(0, len(dataset1), 2):\r\n",
        "        dictionary = {}\r\n",
        "\r\n",
        "        # dictionary['question'] = dataset1.loc[i, 'question']\r\n",
        "        if dataset1.loc[i, 'answer'] == 'yes'  or dataset1.loc[i, 'answer'] == 'no':\r\n",
        "          dictionary['answer'] = 0\r\n",
        "        else:\r\n",
        "          dictionary['answer'] = 1\r\n",
        "          \r\n",
        "        dictionary['context'] = dataset1.loc[i, 'context']+\" \" + dataset1.loc[i + 1, 'context']\r\n",
        "        dictionary['question'] = dataset1.loc[i, 'question']\r\n",
        "\r\n",
        "\r\n",
        "        list_of_rows.append(dictionary)\r\n",
        "\r\n",
        "    return pd.DataFrame(list_of_rows)\r\n",
        "\r\n",
        "\r\n",
        "train = change_dataset(train)\r\n",
        "dev = change_dataset(dev)"
      ],
      "execution_count": 5,
      "outputs": []
    },
    {
      "cell_type": "code",
      "metadata": {
        "colab": {
          "base_uri": "https://localhost:8080/",
          "height": 194
        },
        "id": "_fWuAa-1MbGx",
        "outputId": "1df97425-fc9f-4d3b-f791-c062c5261a05"
      },
      "source": [
        "train.head(5)"
      ],
      "execution_count": 12,
      "outputs": [
        {
          "output_type": "execute_result",
          "data": {
            "text/html": [
              "<div>\n",
              "<style scoped>\n",
              "    .dataframe tbody tr th:only-of-type {\n",
              "        vertical-align: middle;\n",
              "    }\n",
              "\n",
              "    .dataframe tbody tr th {\n",
              "        vertical-align: top;\n",
              "    }\n",
              "\n",
              "    .dataframe thead th {\n",
              "        text-align: right;\n",
              "    }\n",
              "</style>\n",
              "<table border=\"1\" class=\"dataframe\">\n",
              "  <thead>\n",
              "    <tr style=\"text-align: right;\">\n",
              "      <th></th>\n",
              "      <th>answer</th>\n",
              "      <th>context</th>\n",
              "      <th>question</th>\n",
              "    </tr>\n",
              "  </thead>\n",
              "  <tbody>\n",
              "    <tr>\n",
              "      <th>0</th>\n",
              "      <td>1</td>\n",
              "      <td>Arthur's Magazine (1844–1846) was an American ...</td>\n",
              "      <td>Which magazine was started first Arthur's Maga...</td>\n",
              "    </tr>\n",
              "    <tr>\n",
              "      <th>1</th>\n",
              "      <td>1</td>\n",
              "      <td>The Oberoi family is an Indian family that is ...</td>\n",
              "      <td>The Oberoi family is part of a hotel company t...</td>\n",
              "    </tr>\n",
              "    <tr>\n",
              "      <th>2</th>\n",
              "      <td>1</td>\n",
              "      <td>Allison Beth \"Allie\" Goertz (born March 2, 199...</td>\n",
              "      <td>Musician and satirist Allie Goertz wrote a son...</td>\n",
              "    </tr>\n",
              "    <tr>\n",
              "      <th>3</th>\n",
              "      <td>1</td>\n",
              "      <td>James Henry Miller (25 January 1915 – 22 Octob...</td>\n",
              "      <td>What nationality was James Henry Miller's wife?</td>\n",
              "    </tr>\n",
              "    <tr>\n",
              "      <th>4</th>\n",
              "      <td>1</td>\n",
              "      <td>Cadmium chloride is a white crystalline compou...</td>\n",
              "      <td>Cadmium Chloride is slightly soluble in this c...</td>\n",
              "    </tr>\n",
              "  </tbody>\n",
              "</table>\n",
              "</div>"
            ],
            "text/plain": [
              "   answer  ...                                           question\n",
              "0       1  ...  Which magazine was started first Arthur's Maga...\n",
              "1       1  ...  The Oberoi family is part of a hotel company t...\n",
              "2       1  ...  Musician and satirist Allie Goertz wrote a son...\n",
              "3       1  ...    What nationality was James Henry Miller's wife?\n",
              "4       1  ...  Cadmium Chloride is slightly soluble in this c...\n",
              "\n",
              "[5 rows x 3 columns]"
            ]
          },
          "metadata": {
            "tags": []
          },
          "execution_count": 12
        }
      ]
    },
    {
      "cell_type": "code",
      "metadata": {
        "id": "WSzJGR-jKOk2"
      },
      "source": [
        "length = 0\r\n",
        "\r\n",
        "for i,j in train.iterrows():\r\n",
        "  l = len(str(j['question']).split())\r\n",
        "  if l > length : length = l\r\n",
        "\r\n",
        "# print(length)  max length =  108\r\n"
      ],
      "execution_count": 6,
      "outputs": []
    },
    {
      "cell_type": "code",
      "metadata": {
        "id": "e1-TwFl4J54Z"
      },
      "source": [
        "import random\r\n",
        "import torch\r\n",
        "import numpy as np\r\n",
        "import pandas as pd\r\n",
        "from tqdm import tqdm\r\n",
        "from torch.utils.data import TensorDataset, DataLoader, RandomSampler, SequentialSampler\r\n",
        "from transformers import AutoTokenizer, AutoModelForSequenceClassification, AdamW"
      ],
      "execution_count": 7,
      "outputs": []
    },
    {
      "cell_type": "code",
      "metadata": {
        "id": "3egM2EUDKKEY"
      },
      "source": [
        "device = torch.device(\"cuda\" if torch.cuda.is_available() else \"cpu\")\r\n",
        "\r\n",
        "# Set seeds for reproducibility\r\n",
        "random.seed(26)\r\n",
        "np.random.seed(26)\r\n",
        "torch.manual_seed(26)\r\n",
        "\r\n",
        "tokenizer = AutoTokenizer.from_pretrained(\"roberta-large\") \r\n",
        "# google/electra-large-discriminator\r\n",
        "\r\n",
        "\r\n",
        "model = AutoModelForSequenceClassification.from_pretrained(\"/content/drive/MyDrive/task_classification/task_class0\")\r\n",
        "model.to(device) # Send the model to the GPU if we have one\r\n",
        "\r\n",
        "learning_rate = 1e-5\r\n",
        "optimizer = AdamW(model.parameters(), lr=learning_rate, eps=1e-8)"
      ],
      "execution_count": 15,
      "outputs": []
    },
    {
      "cell_type": "code",
      "metadata": {
        "colab": {
          "base_uri": "https://localhost:8080/"
        },
        "id": "Iu5zJFsCLOf_",
        "outputId": "757b8a6f-8133-44fc-e0dc-24999f9cd341"
      },
      "source": [
        "def encode_data(tokenizer, questions, passages, max_length):\r\n",
        "    \"\"\"Encode the question/passage pairs into features than can be fed to the model.\"\"\"\r\n",
        "    input_ids = []\r\n",
        "    attention_masks = []\r\n",
        "\r\n",
        "    for question, passage in zip(questions, passages):\r\n",
        "        encoded_data = tokenizer.encode_plus(question, max_length=max_length, pad_to_max_length=True, truncation_strategy=\"longest_first\")\r\n",
        "        encoded_pair = encoded_data[\"input_ids\"]\r\n",
        "        attention_mask = encoded_data[\"attention_mask\"]\r\n",
        "\r\n",
        "        input_ids.append(encoded_pair)\r\n",
        "        attention_masks.append(attention_mask)\r\n",
        "\r\n",
        "    return np.array(input_ids), np.array(attention_masks)\r\n",
        "\r\n",
        "# Loading data\r\n",
        "\r\n",
        "passages_train = train.context.values\r\n",
        "questions_train = train.question.values\r\n",
        "answers_train = train.answer.values.astype(int)\r\n",
        "\r\n",
        "passages_dev = dev.context.values\r\n",
        "questions_dev = dev.question.values\r\n",
        "answers_dev = dev.answer.values.astype(int)\r\n",
        "\r\n",
        "# Encoding data\r\n",
        "max_seq_length = 128\r\n",
        "input_ids_train, attention_masks_train = encode_data(tokenizer, questions_train, passages_train, max_seq_length)\r\n",
        "input_ids_dev, attention_masks_dev = encode_data(tokenizer, questions_dev, passages_dev, max_seq_length)\r\n",
        "\r\n",
        "train_features = (input_ids_train, attention_masks_train, answers_train)\r\n",
        "dev_features = (input_ids_dev, attention_masks_dev, answers_dev)"
      ],
      "execution_count": 16,
      "outputs": [
        {
          "output_type": "stream",
          "text": [
            "Truncation was not explicitly activated but `max_length` is provided a specific value, please use `truncation=True` to explicitly truncate examples to max length. Defaulting to 'longest_first' truncation strategy. If you encode pairs of sequences (GLUE-style) with the tokenizer you can select this strategy more precisely by providing a specific strategy to `truncation`.\n",
            "/usr/local/lib/python3.6/dist-packages/transformers/tokenization_utils_base.py:2155: FutureWarning: The `pad_to_max_length` argument is deprecated and will be removed in a future version, use `padding=True` or `padding='longest'` to pad to the longest sequence in the batch, or use `padding='max_length'` to pad to a max length. In this case, you can give a specific length with `max_length` (e.g. `max_length=45`) or leave max_length to None to pad to the maximal input size of the model (e.g. 512 for Bert).\n",
            "  FutureWarning,\n"
          ],
          "name": "stderr"
        }
      ]
    },
    {
      "cell_type": "code",
      "metadata": {
        "id": "VP0NQdgsNI1k"
      },
      "source": [
        "# Building Dataloaders\r\n",
        "batch_size = 2\r\n",
        "\r\n",
        "train_features_tensors = [torch.tensor(feature, dtype=torch.long) for feature in train_features]\r\n",
        "dev_features_tensors = [torch.tensor(feature, dtype=torch.long) for feature in dev_features]\r\n",
        "\r\n",
        "train_dataset = TensorDataset(*train_features_tensors)\r\n",
        "dev_dataset = TensorDataset(*dev_features_tensors)\r\n",
        "\r\n",
        "train_sampler = RandomSampler(train_dataset)\r\n",
        "dev_sampler = SequentialSampler(dev_dataset)\r\n",
        "\r\n",
        "train_dataloader = DataLoader(train_dataset, sampler=train_sampler, batch_size=batch_size)\r\n",
        "dev_dataloader = DataLoader(dev_dataset, sampler=dev_sampler, batch_size=batch_size)"
      ],
      "execution_count": 17,
      "outputs": []
    },
    {
      "cell_type": "code",
      "metadata": {
        "colab": {
          "base_uri": "https://localhost:8080/"
        },
        "id": "KxtjT-SINSRa",
        "outputId": "d1d3fffa-0544-4407-bd27-bba1837e6009"
      },
      "source": [
        "epochs = 1\r\n",
        "grad_acc_steps = 4\r\n",
        "train_loss_values = []\r\n",
        "dev_acc_values = []\r\n",
        "\r\n",
        "cnt = 1\r\n",
        "for _ in tqdm(range(epochs), desc=\"Epoch\"):\r\n",
        "\r\n",
        "  # Training\r\n",
        "  epoch_train_loss = 0 # Cumulative loss\r\n",
        "  model.train()\r\n",
        "  model.zero_grad()\r\n",
        "\r\n",
        "  for step, batch in tqdm(enumerate(train_dataloader)):\r\n",
        "\r\n",
        "      input_ids = batch[0].to(device)\r\n",
        "      attention_masks = batch[1].to(device)\r\n",
        "      labels = batch[2].to(device)     \r\n",
        "\r\n",
        "      outputs = model(input_ids, token_type_ids=None, attention_mask=attention_masks, labels=labels)\r\n",
        "\r\n",
        "      loss = outputs[0]\r\n",
        "      loss = loss / grad_acc_steps\r\n",
        "      epoch_train_loss += loss.item()\r\n",
        "\r\n",
        "      loss.backward()\r\n",
        "      \r\n",
        "      if (step+1) % grad_acc_steps == 0: # Gradient accumulation is over\r\n",
        "        torch.nn.utils.clip_grad_norm_(model.parameters(), 1.0) # Clipping gradients\r\n",
        "        optimizer.step()\r\n",
        "        model.zero_grad()\r\n",
        "\r\n",
        "  epoch_train_loss = epoch_train_loss / len(train_dataloader)          \r\n",
        "  train_loss_values.append(epoch_train_loss)\r\n",
        "  \r\n",
        "  # Evaluation\r\n",
        "  epoch_dev_accuracy = 0 # Cumulative accuracy\r\n",
        "  model.save_pretrained(\"/content/drive/MyDrive/task_classification/task_class{}\".format(cnt))\r\n",
        "  cnt +=1\r\n",
        "  model.eval()\r\n",
        "\r\n",
        "  for batch in dev_dataloader:\r\n",
        "    \r\n",
        "    input_ids = batch[0].to(device)\r\n",
        "    attention_masks = batch[1].to(device)\r\n",
        "    labels = batch[2]\r\n",
        "                \r\n",
        "    with torch.no_grad():        \r\n",
        "        outputs = model(input_ids, token_type_ids=None, attention_mask=attention_masks)\r\n",
        "                    \r\n",
        "    logits = outputs[0]\r\n",
        "    logits = logits.detach().cpu().numpy()\r\n",
        "    \r\n",
        "    predictions = np.argmax(logits, axis=1).flatten()\r\n",
        "    labels = labels.numpy().flatten()\r\n",
        "    \r\n",
        "    epoch_dev_accuracy += np.sum(predictions == labels) / len(labels)\r\n",
        "\r\n",
        "  epoch_dev_accuracy = epoch_dev_accuracy / len(dev_dataloader)\r\n",
        "  dev_acc_values.append(epoch_dev_accuracy)"
      ],
      "execution_count": 18,
      "outputs": [
        {
          "output_type": "stream",
          "text": [
            "Epoch: 100%|██████████| 1/1 [03:01<00:00, 181.88s/it]\n"
          ],
          "name": "stderr"
        }
      ]
    },
    {
      "cell_type": "code",
      "metadata": {
        "colab": {
          "base_uri": "https://localhost:8080/",
          "height": 301
        },
        "id": "Xa5DVOK1NXp0",
        "outputId": "5a6364c8-8f7e-43b3-fd72-512d9c1baefc"
      },
      "source": [
        "import seaborn as sns\r\n",
        "import matplotlib.pyplot as plt\r\n",
        "\r\n",
        "sns.set()\r\n",
        "\r\n",
        "plt.plot(train_loss_values, label=\"train_loss\")\r\n",
        "\r\n",
        "plt.xlabel(\"Epoch\")\r\n",
        "plt.ylabel(\"Loss\")\r\n",
        "plt.title(\"Training Loss\")\r\n",
        "plt.legend()\r\n",
        "plt.xticks(np.arange(0, 2))\r\n",
        "plt.show()"
      ],
      "execution_count": 12,
      "outputs": [
        {
          "output_type": "display_data",
          "data": {
            "image/png": "[encoded data removed]",
            "text/plain": [
              "<Figure size 432x288 with 1 Axes>"
            ]
          },
          "metadata": {
            "tags": []
          }
        }
      ]
    },
    {
      "cell_type": "code",
      "metadata": {
        "colab": {
          "base_uri": "https://localhost:8080/",
          "height": 301
        },
        "id": "HnocZFydnnwc",
        "outputId": "f8138903-87b7-484c-9043-10d0ddf0d5a5"
      },
      "source": [
        "\r\n",
        "plt.plot(dev_acc_values, label=\"dev_acc\")\r\n",
        "\r\n",
        "plt.xlabel(\"Epoch\")\r\n",
        "plt.ylabel(\"Accuracy\")\r\n",
        "plt.title(\"Evaluation Accuracy\")\r\n",
        "plt.legend()\r\n",
        "plt.xticks(np.arange(0, 2))\r\n",
        "plt.show()"
      ],
      "execution_count": 13,
      "outputs": [
        {
          "output_type": "display_data",
          "data": {
            "image/png": "[encoded data removed]",
            "text/plain": [
              "<Figure size 432x288 with 1 Axes>"
            ]
          },
          "metadata": {
            "tags": []
          }
        }
      ]
    },
    {
      "cell_type": "code",
      "metadata": {
        "colab": {
          "base_uri": "https://localhost:8080/"
        },
        "id": "KkeNwtWHvs57",
        "outputId": "1b0c53e7-f2b6-410f-97db-49f58f132de1"
      },
      "source": [
        "print(dev_acc_values)"
      ],
      "execution_count": 21,
      "outputs": [
        {
          "output_type": "stream",
          "text": [
            "[0.9968777094923217]\n"
          ],
          "name": "stdout"
        }
      ]
    }
  ]
}